{
 "cells": [
  {
   "cell_type": "markdown",
   "metadata": {},
   "source": [
    "# Contextualization\n",
    "SIB(Small Industries Bank) loans money to companies in exchange for the promise of repayment. Given a number of metrics, we are to find whether a client for the bank will be defaulting on their loan or not."
   ]
  },
  {
   "cell_type": "markdown",
   "metadata": {},
   "source": [
    "# Loading imports and data:"
   ]
  },
  {
   "cell_type": "code",
   "execution_count": 34,
   "metadata": {},
   "outputs": [],
   "source": [
    "import pandas as pd\n",
    "import numpy as np\n",
    "import seaborn as sns\n",
    "import matplotlib.pyplot as plt \n",
    "import sklearn.metrics as met\n",
    "from sklearn.model_selection import train_test_split, KFold, GridSearchCV, RandomizedSearchCV\n",
    "from sklearn.preprocessing import StandardScaler\n",
    "from sklearn.linear_model import LogisticRegression\n",
    "from sklearn.ensemble import RandomForestClassifier"
   ]
  },
  {
   "cell_type": "code",
   "execution_count": 2,
   "metadata": {},
   "outputs": [],
   "source": [
    "train = pd.read_csv(\"data/train.csv\")\n",
    "test = pd.read_csv(\"data/test.csv\")"
   ]
  },
  {
   "cell_type": "markdown",
   "metadata": {},
   "source": [
    "# Understanding the data"
   ]
  },
  {
   "cell_type": "code",
   "execution_count": 3,
   "metadata": {},
   "outputs": [
    {
     "data": {
      "text/html": [
       "<div>\n",
       "<style scoped>\n",
       "    .dataframe tbody tr th:only-of-type {\n",
       "        vertical-align: middle;\n",
       "    }\n",
       "\n",
       "    .dataframe tbody tr th {\n",
       "        vertical-align: top;\n",
       "    }\n",
       "\n",
       "    .dataframe thead th {\n",
       "        text-align: right;\n",
       "    }\n",
       "</style>\n",
       "<table border=\"1\" class=\"dataframe\">\n",
       "  <thead>\n",
       "    <tr style=\"text-align: right;\">\n",
       "      <th></th>\n",
       "      <th>id</th>\n",
       "      <th>industry</th>\n",
       "      <th>state</th>\n",
       "      <th>request_date</th>\n",
       "      <th>term</th>\n",
       "      <th>employee_count</th>\n",
       "      <th>business_new</th>\n",
       "      <th>business_type</th>\n",
       "      <th>location</th>\n",
       "      <th>other_loans</th>\n",
       "      <th>loan_amount</th>\n",
       "      <th>insured_amount</th>\n",
       "      <th>default_status</th>\n",
       "    </tr>\n",
       "  </thead>\n",
       "  <tbody>\n",
       "    <tr>\n",
       "      <th>0</th>\n",
       "      <td>4050975007</td>\n",
       "      <td>Others</td>\n",
       "      <td>VA</td>\n",
       "      <td>27-Apr-10</td>\n",
       "      <td>34</td>\n",
       "      <td>4</td>\n",
       "      <td>New</td>\n",
       "      <td>0</td>\n",
       "      <td>Rural</td>\n",
       "      <td>N</td>\n",
       "      <td>$35,000.00</td>\n",
       "      <td>$35,000.00</td>\n",
       "      <td>1</td>\n",
       "    </tr>\n",
       "    <tr>\n",
       "      <th>1</th>\n",
       "      <td>3735095001</td>\n",
       "      <td>Manufacturing</td>\n",
       "      <td>CA</td>\n",
       "      <td>05-Nov-09</td>\n",
       "      <td>107</td>\n",
       "      <td>1</td>\n",
       "      <td>New</td>\n",
       "      <td>0</td>\n",
       "      <td>Rural</td>\n",
       "      <td>N</td>\n",
       "      <td>$15,000.00</td>\n",
       "      <td>$13,500.00</td>\n",
       "      <td>1</td>\n",
       "    </tr>\n",
       "    <tr>\n",
       "      <th>2</th>\n",
       "      <td>3936555004</td>\n",
       "      <td>Trading</td>\n",
       "      <td>CA</td>\n",
       "      <td>26-Feb-10</td>\n",
       "      <td>84</td>\n",
       "      <td>1</td>\n",
       "      <td>New</td>\n",
       "      <td>0</td>\n",
       "      <td>Rural</td>\n",
       "      <td>Y</td>\n",
       "      <td>$265,000.00</td>\n",
       "      <td>$100,000.00</td>\n",
       "      <td>0</td>\n",
       "    </tr>\n",
       "    <tr>\n",
       "      <th>3</th>\n",
       "      <td>4130405000</td>\n",
       "      <td>Engineering</td>\n",
       "      <td>MI</td>\n",
       "      <td>10-Jun-10</td>\n",
       "      <td>240</td>\n",
       "      <td>21</td>\n",
       "      <td>New</td>\n",
       "      <td>0</td>\n",
       "      <td>Rural</td>\n",
       "      <td>N</td>\n",
       "      <td>$255,000.00</td>\n",
       "      <td>$255,000.00</td>\n",
       "      <td>0</td>\n",
       "    </tr>\n",
       "    <tr>\n",
       "      <th>4</th>\n",
       "      <td>4263615008</td>\n",
       "      <td>Education</td>\n",
       "      <td>NH</td>\n",
       "      <td>23-Sep-10</td>\n",
       "      <td>36</td>\n",
       "      <td>1</td>\n",
       "      <td>Existing</td>\n",
       "      <td>0</td>\n",
       "      <td>Rural</td>\n",
       "      <td>N</td>\n",
       "      <td>$13,300.00</td>\n",
       "      <td>$6,650.00</td>\n",
       "      <td>0</td>\n",
       "    </tr>\n",
       "  </tbody>\n",
       "</table>\n",
       "</div>"
      ],
      "text/plain": [
       "           id       industry state request_date  term  employee_count  \\\n",
       "0  4050975007         Others    VA    27-Apr-10    34               4   \n",
       "1  3735095001  Manufacturing    CA    05-Nov-09   107               1   \n",
       "2  3936555004        Trading    CA    26-Feb-10    84               1   \n",
       "3  4130405000    Engineering    MI    10-Jun-10   240              21   \n",
       "4  4263615008      Education    NH    23-Sep-10    36               1   \n",
       "\n",
       "  business_new  business_type location other_loans  loan_amount  \\\n",
       "0          New              0    Rural           N   $35,000.00   \n",
       "1          New              0    Rural           N   $15,000.00   \n",
       "2          New              0    Rural           Y  $265,000.00   \n",
       "3          New              0    Rural           N  $255,000.00   \n",
       "4     Existing              0    Rural           N   $13,300.00   \n",
       "\n",
       "  insured_amount  default_status  \n",
       "0     $35,000.00               1  \n",
       "1     $13,500.00               1  \n",
       "2    $100,000.00               0  \n",
       "3    $255,000.00               0  \n",
       "4      $6,650.00               0  "
      ]
     },
     "execution_count": 3,
     "metadata": {},
     "output_type": "execute_result"
    }
   ],
   "source": [
    "train.head()"
   ]
  },
  {
   "cell_type": "markdown",
   "metadata": {},
   "source": [
    "We have 12 different columns, after discounting the default status, with only 6 of them being purely numerical and one of them being the index which will not be used. We will require to categorize some of the features as well as create a few new ones"
   ]
  },
  {
   "cell_type": "code",
   "execution_count": 4,
   "metadata": {},
   "outputs": [
    {
     "data": {
      "text/plain": [
       "id                0\n",
       "industry          1\n",
       "state             0\n",
       "request_date      0\n",
       "term              0\n",
       "employee_count    0\n",
       "business_new      0\n",
       "business_type     0\n",
       "location          0\n",
       "other_loans       0\n",
       "loan_amount       0\n",
       "insured_amount    0\n",
       "default_status    0\n",
       "dtype: int64"
      ]
     },
     "execution_count": 4,
     "metadata": {},
     "output_type": "execute_result"
    }
   ],
   "source": [
    "train.isnull().sum()"
   ]
  },
  {
   "cell_type": "code",
   "execution_count": 5,
   "metadata": {},
   "outputs": [
    {
     "data": {
      "text/plain": [
       "id                0\n",
       "industry          0\n",
       "state             0\n",
       "request_date      0\n",
       "term              0\n",
       "employee_count    0\n",
       "business_new      0\n",
       "business_type     0\n",
       "location          0\n",
       "other_loans       0\n",
       "loan_amount       0\n",
       "insured_amount    0\n",
       "dtype: int64"
      ]
     },
     "execution_count": 5,
     "metadata": {},
     "output_type": "execute_result"
    }
   ],
   "source": [
    "test.isnull().sum()"
   ]
  },
  {
   "cell_type": "markdown",
   "metadata": {},
   "source": [
    "Only one record in the train set is empty or null, we will remove it from the data set altogether as it is not a significant portion of the records."
   ]
  },
  {
   "cell_type": "code",
   "execution_count": 6,
   "metadata": {},
   "outputs": [],
   "source": [
    "train = train.dropna()"
   ]
  },
  {
   "cell_type": "code",
   "execution_count": 7,
   "metadata": {},
   "outputs": [
    {
     "data": {
      "text/plain": [
       "id                0\n",
       "industry          0\n",
       "state             0\n",
       "request_date      0\n",
       "term              0\n",
       "employee_count    0\n",
       "business_new      0\n",
       "business_type     0\n",
       "location          0\n",
       "other_loans       0\n",
       "loan_amount       0\n",
       "insured_amount    0\n",
       "default_status    0\n",
       "dtype: int64"
      ]
     },
     "execution_count": 7,
     "metadata": {},
     "output_type": "execute_result"
    }
   ],
   "source": [
    "train.isnull().sum()"
   ]
  },
  {
   "cell_type": "code",
   "execution_count": 8,
   "metadata": {},
   "outputs": [
    {
     "data": {
      "text/plain": [
       "0    1628\n",
       "1     773\n",
       "Name: default_status, dtype: int64"
      ]
     },
     "execution_count": 8,
     "metadata": {},
     "output_type": "execute_result"
    }
   ],
   "source": [
    "train.default_status.value_counts()"
   ]
  },
  {
   "cell_type": "markdown",
   "metadata": {},
   "source": [
    "**id**: Is a non relevant factor and will be dropped later\n",
    "\n",
    "**Industry**: We will start by analyzing if type of industry has any influence on probability of defaulting loan"
   ]
  },
  {
   "cell_type": "code",
   "execution_count": 9,
   "metadata": {},
   "outputs": [
    {
     "data": {
      "text/html": [
       "<div>\n",
       "<style scoped>\n",
       "    .dataframe tbody tr th:only-of-type {\n",
       "        vertical-align: middle;\n",
       "    }\n",
       "\n",
       "    .dataframe tbody tr th {\n",
       "        vertical-align: top;\n",
       "    }\n",
       "\n",
       "    .dataframe thead th {\n",
       "        text-align: right;\n",
       "    }\n",
       "</style>\n",
       "<table border=\"1\" class=\"dataframe\">\n",
       "  <thead>\n",
       "    <tr style=\"text-align: right;\">\n",
       "      <th></th>\n",
       "      <th>default_status</th>\n",
       "    </tr>\n",
       "    <tr>\n",
       "      <th>industry</th>\n",
       "      <th></th>\n",
       "    </tr>\n",
       "  </thead>\n",
       "  <tbody>\n",
       "    <tr>\n",
       "      <th>Trading</th>\n",
       "      <td>508</td>\n",
       "    </tr>\n",
       "    <tr>\n",
       "      <th>Construction</th>\n",
       "      <td>275</td>\n",
       "    </tr>\n",
       "    <tr>\n",
       "      <th>Consulting</th>\n",
       "      <td>267</td>\n",
       "    </tr>\n",
       "    <tr>\n",
       "      <th>Hotel</th>\n",
       "      <td>245</td>\n",
       "    </tr>\n",
       "    <tr>\n",
       "      <th>Manufacturing</th>\n",
       "      <td>245</td>\n",
       "    </tr>\n",
       "    <tr>\n",
       "      <th>Healthcare</th>\n",
       "      <td>219</td>\n",
       "    </tr>\n",
       "    <tr>\n",
       "      <th>Others</th>\n",
       "      <td>168</td>\n",
       "    </tr>\n",
       "    <tr>\n",
       "      <th>Administration</th>\n",
       "      <td>125</td>\n",
       "    </tr>\n",
       "    <tr>\n",
       "      <th>Transportation</th>\n",
       "      <td>106</td>\n",
       "    </tr>\n",
       "    <tr>\n",
       "      <th>Agriculture</th>\n",
       "      <td>58</td>\n",
       "    </tr>\n",
       "    <tr>\n",
       "      <th>Real Estate</th>\n",
       "      <td>44</td>\n",
       "    </tr>\n",
       "    <tr>\n",
       "      <th>Engineering</th>\n",
       "      <td>40</td>\n",
       "    </tr>\n",
       "    <tr>\n",
       "      <th>Finance</th>\n",
       "      <td>32</td>\n",
       "    </tr>\n",
       "    <tr>\n",
       "      <th>Entertainment</th>\n",
       "      <td>31</td>\n",
       "    </tr>\n",
       "    <tr>\n",
       "      <th>Education</th>\n",
       "      <td>29</td>\n",
       "    </tr>\n",
       "    <tr>\n",
       "      <th>Energy</th>\n",
       "      <td>9</td>\n",
       "    </tr>\n",
       "  </tbody>\n",
       "</table>\n",
       "</div>"
      ],
      "text/plain": [
       "                default_status\n",
       "industry                      \n",
       "Trading                    508\n",
       "Construction               275\n",
       "Consulting                 267\n",
       "Hotel                      245\n",
       "Manufacturing              245\n",
       "Healthcare                 219\n",
       "Others                     168\n",
       "Administration             125\n",
       "Transportation             106\n",
       "Agriculture                 58\n",
       "Real Estate                 44\n",
       "Engineering                 40\n",
       "Finance                     32\n",
       "Entertainment               31\n",
       "Education                   29\n",
       "Energy                       9"
      ]
     },
     "execution_count": 9,
     "metadata": {},
     "output_type": "execute_result"
    },
    {
     "data": {
      "image/png": "[encoded data removed]",
      "text/plain": [
       "<Figure size 1440x360 with 1 Axes>"
      ]
     },
     "metadata": {
      "needs_background": "light"
     },
     "output_type": "display_data"
    }
   ],
   "source": [
    "plt.figure(figsize=(20,5))\n",
    "ax = sns.countplot(x=\"industry\", hue=\"default_status\", data=train)\n",
    "train[['industry', 'default_status']].groupby(['industry']).count().sort_values(by='default_status', ascending=False)"
   ]
  },
  {
   "cell_type": "code",
   "execution_count": 10,
   "metadata": {},
   "outputs": [
    {
     "data": {
      "text/html": [
       "<div>\n",
       "<style scoped>\n",
       "    .dataframe tbody tr th:only-of-type {\n",
       "        vertical-align: middle;\n",
       "    }\n",
       "\n",
       "    .dataframe tbody tr th {\n",
       "        vertical-align: top;\n",
       "    }\n",
       "\n",
       "    .dataframe thead th {\n",
       "        text-align: right;\n",
       "    }\n",
       "</style>\n",
       "<table border=\"1\" class=\"dataframe\">\n",
       "  <thead>\n",
       "    <tr style=\"text-align: right;\">\n",
       "      <th></th>\n",
       "      <th>default_status</th>\n",
       "    </tr>\n",
       "    <tr>\n",
       "      <th>industry</th>\n",
       "      <th></th>\n",
       "    </tr>\n",
       "  </thead>\n",
       "  <tbody>\n",
       "    <tr>\n",
       "      <th>Construction</th>\n",
       "      <td>0.425455</td>\n",
       "    </tr>\n",
       "    <tr>\n",
       "      <th>Hotel</th>\n",
       "      <td>0.383673</td>\n",
       "    </tr>\n",
       "    <tr>\n",
       "      <th>Engineering</th>\n",
       "      <td>0.375000</td>\n",
       "    </tr>\n",
       "    <tr>\n",
       "      <th>Others</th>\n",
       "      <td>0.363095</td>\n",
       "    </tr>\n",
       "    <tr>\n",
       "      <th>Trading</th>\n",
       "      <td>0.356299</td>\n",
       "    </tr>\n",
       "    <tr>\n",
       "      <th>Finance</th>\n",
       "      <td>0.343750</td>\n",
       "    </tr>\n",
       "    <tr>\n",
       "      <th>Real Estate</th>\n",
       "      <td>0.340909</td>\n",
       "    </tr>\n",
       "    <tr>\n",
       "      <th>Consulting</th>\n",
       "      <td>0.333333</td>\n",
       "    </tr>\n",
       "    <tr>\n",
       "      <th>Administration</th>\n",
       "      <td>0.320000</td>\n",
       "    </tr>\n",
       "    <tr>\n",
       "      <th>Entertainment</th>\n",
       "      <td>0.258065</td>\n",
       "    </tr>\n",
       "    <tr>\n",
       "      <th>Transportation</th>\n",
       "      <td>0.254717</td>\n",
       "    </tr>\n",
       "    <tr>\n",
       "      <th>Manufacturing</th>\n",
       "      <td>0.232653</td>\n",
       "    </tr>\n",
       "    <tr>\n",
       "      <th>Education</th>\n",
       "      <td>0.206897</td>\n",
       "    </tr>\n",
       "    <tr>\n",
       "      <th>Agriculture</th>\n",
       "      <td>0.189655</td>\n",
       "    </tr>\n",
       "    <tr>\n",
       "      <th>Healthcare</th>\n",
       "      <td>0.182648</td>\n",
       "    </tr>\n",
       "    <tr>\n",
       "      <th>Energy</th>\n",
       "      <td>0.111111</td>\n",
       "    </tr>\n",
       "  </tbody>\n",
       "</table>\n",
       "</div>"
      ],
      "text/plain": [
       "                default_status\n",
       "industry                      \n",
       "Construction          0.425455\n",
       "Hotel                 0.383673\n",
       "Engineering           0.375000\n",
       "Others                0.363095\n",
       "Trading               0.356299\n",
       "Finance               0.343750\n",
       "Real Estate           0.340909\n",
       "Consulting            0.333333\n",
       "Administration        0.320000\n",
       "Entertainment         0.258065\n",
       "Transportation        0.254717\n",
       "Manufacturing         0.232653\n",
       "Education             0.206897\n",
       "Agriculture           0.189655\n",
       "Healthcare            0.182648\n",
       "Energy                0.111111"
      ]
     },
     "execution_count": 10,
     "metadata": {},
     "output_type": "execute_result"
    },
    {
     "data": {
      "image/png": "[encoded data removed]",
      "text/plain": [
       "<Figure size 1440x360 with 1 Axes>"
      ]
     },
     "metadata": {
      "needs_background": "light"
     },
     "output_type": "display_data"
    }
   ],
   "source": [
    "plt.figure(figsize=(20,5))\n",
    "g = sns.barplot(x=\"industry\",y=\"default_status\",data=train)\n",
    "g = g.set_ylabel(\"Default Probability\")\n",
    "train[['industry', 'default_status']].groupby(['industry']).mean().sort_values(by='default_status', ascending=False)"
   ]
  },
  {
   "cell_type": "markdown",
   "metadata": {},
   "source": [
    "None of the Industries show a particularly high rate of defaulting, however due to the low amount of data in some of them, their variance seems to be less stable, such as with Energy Industry. Values will be converted into numerical categories."
   ]
  },
  {
   "cell_type": "markdown",
   "metadata": {},
   "source": [
    "**State** More data that is not numerically categorized. If no pattern is identified from the different data, this feature will be considered for removal."
   ]
  },
  {
   "cell_type": "code",
   "execution_count": 11,
   "metadata": {},
   "outputs": [
    {
     "data": {
      "image/png": "[encoded data removed]",
      "text/plain": [
       "<Figure size 1440x360 with 1 Axes>"
      ]
     },
     "metadata": {
      "needs_background": "light"
     },
     "output_type": "display_data"
    }
   ],
   "source": [
    "plt.figure(figsize=(20,5))\n",
    "ax = sns.countplot(x=\"state\", hue=\"default_status\", data=train)\n"
   ]
  },
  {
   "cell_type": "code",
   "execution_count": 12,
   "metadata": {},
   "outputs": [
    {
     "data": {
      "text/html": [
       "<div>\n",
       "<style scoped>\n",
       "    .dataframe tbody tr th:only-of-type {\n",
       "        vertical-align: middle;\n",
       "    }\n",
       "\n",
       "    .dataframe tbody tr th {\n",
       "        vertical-align: top;\n",
       "    }\n",
       "\n",
       "    .dataframe thead th {\n",
       "        text-align: right;\n",
       "    }\n",
       "</style>\n",
       "<table border=\"1\" class=\"dataframe\">\n",
       "  <thead>\n",
       "    <tr style=\"text-align: right;\">\n",
       "      <th></th>\n",
       "      <th>default_status</th>\n",
       "    </tr>\n",
       "    <tr>\n",
       "      <th>state</th>\n",
       "      <th></th>\n",
       "    </tr>\n",
       "  </thead>\n",
       "  <tbody>\n",
       "    <tr>\n",
       "      <th>DE</th>\n",
       "      <td>0.750000</td>\n",
       "    </tr>\n",
       "    <tr>\n",
       "      <th>AZ</th>\n",
       "      <td>0.618182</td>\n",
       "    </tr>\n",
       "    <tr>\n",
       "      <th>GA</th>\n",
       "      <td>0.558140</td>\n",
       "    </tr>\n",
       "    <tr>\n",
       "      <th>AR</th>\n",
       "      <td>0.545455</td>\n",
       "    </tr>\n",
       "    <tr>\n",
       "      <th>MD</th>\n",
       "      <td>0.461538</td>\n",
       "    </tr>\n",
       "    <tr>\n",
       "      <th>FL</th>\n",
       "      <td>0.452632</td>\n",
       "    </tr>\n",
       "    <tr>\n",
       "      <th>WA</th>\n",
       "      <td>0.435484</td>\n",
       "    </tr>\n",
       "    <tr>\n",
       "      <th>WV</th>\n",
       "      <td>0.428571</td>\n",
       "    </tr>\n",
       "    <tr>\n",
       "      <th>TN</th>\n",
       "      <td>0.428571</td>\n",
       "    </tr>\n",
       "    <tr>\n",
       "      <th>SC</th>\n",
       "      <td>0.416667</td>\n",
       "    </tr>\n",
       "    <tr>\n",
       "      <th>NV</th>\n",
       "      <td>0.388889</td>\n",
       "    </tr>\n",
       "    <tr>\n",
       "      <th>IA</th>\n",
       "      <td>0.380952</td>\n",
       "    </tr>\n",
       "    <tr>\n",
       "      <th>IL</th>\n",
       "      <td>0.379747</td>\n",
       "    </tr>\n",
       "    <tr>\n",
       "      <th>MO</th>\n",
       "      <td>0.376812</td>\n",
       "    </tr>\n",
       "    <tr>\n",
       "      <th>NC</th>\n",
       "      <td>0.361702</td>\n",
       "    </tr>\n",
       "    <tr>\n",
       "      <th>MS</th>\n",
       "      <td>0.361111</td>\n",
       "    </tr>\n",
       "    <tr>\n",
       "      <th>CA</th>\n",
       "      <td>0.358362</td>\n",
       "    </tr>\n",
       "    <tr>\n",
       "      <th>HI</th>\n",
       "      <td>0.357143</td>\n",
       "    </tr>\n",
       "    <tr>\n",
       "      <th>AL</th>\n",
       "      <td>0.350000</td>\n",
       "    </tr>\n",
       "    <tr>\n",
       "      <th>ID</th>\n",
       "      <td>0.346154</td>\n",
       "    </tr>\n",
       "    <tr>\n",
       "      <th>UT</th>\n",
       "      <td>0.337662</td>\n",
       "    </tr>\n",
       "    <tr>\n",
       "      <th>TX</th>\n",
       "      <td>0.314136</td>\n",
       "    </tr>\n",
       "    <tr>\n",
       "      <th>VA</th>\n",
       "      <td>0.300000</td>\n",
       "    </tr>\n",
       "    <tr>\n",
       "      <th>MT</th>\n",
       "      <td>0.296296</td>\n",
       "    </tr>\n",
       "    <tr>\n",
       "      <th>KY</th>\n",
       "      <td>0.294118</td>\n",
       "    </tr>\n",
       "    <tr>\n",
       "      <th>LA</th>\n",
       "      <td>0.285714</td>\n",
       "    </tr>\n",
       "    <tr>\n",
       "      <th>IN</th>\n",
       "      <td>0.283019</td>\n",
       "    </tr>\n",
       "    <tr>\n",
       "      <th>NE</th>\n",
       "      <td>0.275862</td>\n",
       "    </tr>\n",
       "    <tr>\n",
       "      <th>MN</th>\n",
       "      <td>0.274725</td>\n",
       "    </tr>\n",
       "    <tr>\n",
       "      <th>OH</th>\n",
       "      <td>0.274510</td>\n",
       "    </tr>\n",
       "    <tr>\n",
       "      <th>KS</th>\n",
       "      <td>0.272727</td>\n",
       "    </tr>\n",
       "    <tr>\n",
       "      <th>PA</th>\n",
       "      <td>0.271186</td>\n",
       "    </tr>\n",
       "    <tr>\n",
       "      <th>NY</th>\n",
       "      <td>0.270677</td>\n",
       "    </tr>\n",
       "    <tr>\n",
       "      <th>OR</th>\n",
       "      <td>0.270270</td>\n",
       "    </tr>\n",
       "    <tr>\n",
       "      <th>CO</th>\n",
       "      <td>0.266667</td>\n",
       "    </tr>\n",
       "    <tr>\n",
       "      <th>ME</th>\n",
       "      <td>0.250000</td>\n",
       "    </tr>\n",
       "    <tr>\n",
       "      <th>MI</th>\n",
       "      <td>0.235294</td>\n",
       "    </tr>\n",
       "    <tr>\n",
       "      <th>WI</th>\n",
       "      <td>0.225000</td>\n",
       "    </tr>\n",
       "    <tr>\n",
       "      <th>SD</th>\n",
       "      <td>0.214286</td>\n",
       "    </tr>\n",
       "    <tr>\n",
       "      <th>OK</th>\n",
       "      <td>0.206897</td>\n",
       "    </tr>\n",
       "    <tr>\n",
       "      <th>NJ</th>\n",
       "      <td>0.206897</td>\n",
       "    </tr>\n",
       "    <tr>\n",
       "      <th>MA</th>\n",
       "      <td>0.202703</td>\n",
       "    </tr>\n",
       "    <tr>\n",
       "      <th>ND</th>\n",
       "      <td>0.200000</td>\n",
       "    </tr>\n",
       "    <tr>\n",
       "      <th>NH</th>\n",
       "      <td>0.185185</td>\n",
       "    </tr>\n",
       "    <tr>\n",
       "      <th>RI</th>\n",
       "      <td>0.142857</td>\n",
       "    </tr>\n",
       "    <tr>\n",
       "      <th>NM</th>\n",
       "      <td>0.125000</td>\n",
       "    </tr>\n",
       "    <tr>\n",
       "      <th>VT</th>\n",
       "      <td>0.117647</td>\n",
       "    </tr>\n",
       "    <tr>\n",
       "      <th>CT</th>\n",
       "      <td>0.111111</td>\n",
       "    </tr>\n",
       "    <tr>\n",
       "      <th>AK</th>\n",
       "      <td>0.000000</td>\n",
       "    </tr>\n",
       "    <tr>\n",
       "      <th>WY</th>\n",
       "      <td>0.000000</td>\n",
       "    </tr>\n",
       "  </tbody>\n",
       "</table>\n",
       "</div>"
      ],
      "text/plain": [
       "       default_status\n",
       "state                \n",
       "DE           0.750000\n",
       "AZ           0.618182\n",
       "GA           0.558140\n",
       "AR           0.545455\n",
       "MD           0.461538\n",
       "FL           0.452632\n",
       "WA           0.435484\n",
       "WV           0.428571\n",
       "TN           0.428571\n",
       "SC           0.416667\n",
       "NV           0.388889\n",
       "IA           0.380952\n",
       "IL           0.379747\n",
       "MO           0.376812\n",
       "NC           0.361702\n",
       "MS           0.361111\n",
       "CA           0.358362\n",
       "HI           0.357143\n",
       "AL           0.350000\n",
       "ID           0.346154\n",
       "UT           0.337662\n",
       "TX           0.314136\n",
       "VA           0.300000\n",
       "MT           0.296296\n",
       "KY           0.294118\n",
       "LA           0.285714\n",
       "IN           0.283019\n",
       "NE           0.275862\n",
       "MN           0.274725\n",
       "OH           0.274510\n",
       "KS           0.272727\n",
       "PA           0.271186\n",
       "NY           0.270677\n",
       "OR           0.270270\n",
       "CO           0.266667\n",
       "ME           0.250000\n",
       "MI           0.235294\n",
       "WI           0.225000\n",
       "SD           0.214286\n",
       "OK           0.206897\n",
       "NJ           0.206897\n",
       "MA           0.202703\n",
       "ND           0.200000\n",
       "NH           0.185185\n",
       "RI           0.142857\n",
       "NM           0.125000\n",
       "VT           0.117647\n",
       "CT           0.111111\n",
       "AK           0.000000\n",
       "WY           0.000000"
      ]
     },
     "execution_count": 12,
     "metadata": {},
     "output_type": "execute_result"
    },
    {
     "data": {
      "image/png": "[encoded data removed]",
      "text/plain": [
       "<Figure size 1440x360 with 1 Axes>"
      ]
     },
     "metadata": {
      "needs_background": "light"
     },
     "output_type": "display_data"
    }
   ],
   "source": [
    "plt.figure(figsize=(20,5))\n",
    "g = sns.barplot(x=\"state\",y=\"default_status\",data=train)\n",
    "g = g.set_ylabel(\"Default Probability\")\n",
    "train[['state', 'default_status']].groupby(['state']).mean().sort_values(by='default_status', ascending=False)"
   ]
  },
  {
   "cell_type": "markdown",
   "metadata": {},
   "source": [
    "From the observed above, a higher chance to incur in a default is observed from states where the economy for small businesses are not as highly thriving as the more densely populated states. Such is the example of Denver, Arizona, Georgia and Arkansas. However in contrast to this, some of the states that have much more active economies for Small businesses such as California and Washington are close to split evenly in their chances of defaulting. As such this feature will be divided in 3 categories. High Risk with those states with a 50% chance or higher, Mid Risk with those between 21 and 49% risk and Low Risk/Slow Economy for those with 20% or less risk"
   ]
  },
  {
   "cell_type": "markdown",
   "metadata": {},
   "source": [
    "**request date**: As a non discrete value, it needs to be discretized in a way that allows us to get insights into the data"
   ]
  },
  {
   "cell_type": "code",
   "execution_count": 13,
   "metadata": {},
   "outputs": [],
   "source": [
    "train['request_date'] = pd.to_datetime(train['request_date'])"
   ]
  },
  {
   "cell_type": "code",
   "execution_count": 14,
   "metadata": {},
   "outputs": [
    {
     "name": "stdout",
     "output_type": "stream",
     "text": [
      "2010-09-30 00:00:00\n",
      "2009-10-01 00:00:00\n"
     ]
    }
   ],
   "source": [
    "print(train.request_date.max())\n",
    "print(train.request_date.min())"
   ]
  },
  {
   "cell_type": "code",
   "execution_count": 15,
   "metadata": {},
   "outputs": [
    {
     "name": "stderr",
     "output_type": "stream",
     "text": [
      "D:\\Miniconda3\\envs\\playground\\lib\\site-packages\\ipykernel_launcher.py:2: SettingWithCopyWarning: \n",
      "A value is trying to be set on a copy of a slice from a DataFrame.\n",
      "Try using .loc[row_indexer,col_indexer] = value instead\n",
      "\n",
      "See the caveats in the documentation: https://pandas.pydata.org/pandas-docs/stable/user_guide/indexing.html#returning-a-view-versus-a-copy\n",
      "  \n"
     ]
    },
    {
     "data": {
      "text/html": [
       "<div>\n",
       "<style scoped>\n",
       "    .dataframe tbody tr th:only-of-type {\n",
       "        vertical-align: middle;\n",
       "    }\n",
       "\n",
       "    .dataframe tbody tr th {\n",
       "        vertical-align: top;\n",
       "    }\n",
       "\n",
       "    .dataframe thead th {\n",
       "        text-align: right;\n",
       "    }\n",
       "</style>\n",
       "<table border=\"1\" class=\"dataframe\">\n",
       "  <thead>\n",
       "    <tr style=\"text-align: right;\">\n",
       "      <th></th>\n",
       "      <th>request_date</th>\n",
       "      <th>default_status</th>\n",
       "      <th>month_year</th>\n",
       "    </tr>\n",
       "  </thead>\n",
       "  <tbody>\n",
       "    <tr>\n",
       "      <th>946</th>\n",
       "      <td>2009-10-09</td>\n",
       "      <td>1</td>\n",
       "      <td>2009-10</td>\n",
       "    </tr>\n",
       "    <tr>\n",
       "      <th>1743</th>\n",
       "      <td>2009-10-29</td>\n",
       "      <td>0</td>\n",
       "      <td>2009-10</td>\n",
       "    </tr>\n",
       "    <tr>\n",
       "      <th>2022</th>\n",
       "      <td>2009-10-16</td>\n",
       "      <td>0</td>\n",
       "      <td>2009-10</td>\n",
       "    </tr>\n",
       "    <tr>\n",
       "      <th>2021</th>\n",
       "      <td>2009-10-14</td>\n",
       "      <td>0</td>\n",
       "      <td>2009-10</td>\n",
       "    </tr>\n",
       "    <tr>\n",
       "      <th>2013</th>\n",
       "      <td>2009-10-07</td>\n",
       "      <td>0</td>\n",
       "      <td>2009-10</td>\n",
       "    </tr>\n",
       "  </tbody>\n",
       "</table>\n",
       "</div>"
      ],
      "text/plain": [
       "     request_date  default_status month_year\n",
       "946    2009-10-09               1    2009-10\n",
       "1743   2009-10-29               0    2009-10\n",
       "2022   2009-10-16               0    2009-10\n",
       "2021   2009-10-14               0    2009-10\n",
       "2013   2009-10-07               0    2009-10"
      ]
     },
     "execution_count": 15,
     "metadata": {},
     "output_type": "execute_result"
    }
   ],
   "source": [
    "dates_train = train[['request_date', 'default_status']]\n",
    "dates_train['month_year'] = pd.to_datetime(dates_train.request_date).dt.to_period('M')\n",
    "dates_train = dates_train.sort_values(by=['month_year'])\n",
    "dates_train.head()"
   ]
  },
  {
   "cell_type": "code",
   "execution_count": 16,
   "metadata": {},
   "outputs": [
    {
     "data": {
      "image/png": "[encoded data removed]",
      "text/plain": [
       "<Figure size 1440x360 with 1 Axes>"
      ]
     },
     "metadata": {
      "needs_background": "light"
     },
     "output_type": "display_data"
    }
   ],
   "source": [
    "plt.figure(figsize=(20,5))\n",
    "ax = sns.countplot(x=\"month_year\", hue=\"default_status\", data=dates_train)"
   ]
  },
  {
   "cell_type": "markdown",
   "metadata": {},
   "source": [
    "With only 1 year of data and no previous historical records, it is not a significant factor in the analysis. This feature will be later dropped"
   ]
  },
  {
   "cell_type": "markdown",
   "metadata": {},
   "source": [
    "**term**: We will observe the distribution of terms."
   ]
  },
  {
   "cell_type": "code",
   "execution_count": 17,
   "metadata": {},
   "outputs": [
    {
     "data": {
      "image/png": "[encoded data removed]",
      "text/plain": [
       "<Figure size 720x576 with 1 Axes>"
      ]
     },
     "metadata": {
      "needs_background": "light"
     },
     "output_type": "display_data"
    }
   ],
   "source": [
    "fig = plt.figure(figsize=(10,8),)\n",
    "axis = sns.kdeplot(train.loc[(train['default_status'] == 1),'term'] , color='g',shade=True, label='Defaulted')\n",
    "axis = sns.kdeplot(train.loc[(train['default_status'] == 0),'term'] , color='b',shade=True,label='Did Not default')\n",
    "plt.title('Term Distribution - Default vs No Default', fontsize = 20)\n",
    "plt.xlabel(\"Term\", fontsize = 12)\n",
    "plt.ylabel('Frequency', fontsize = 12);"
   ]
  },
  {
   "cell_type": "markdown",
   "metadata": {},
   "source": [
    "Short term loans appear to be more likely to default. As such we will bin them in Short term, Mid term and Long term during feature engineering.\n",
    "\n",
    "**employee count**: We will also analyse its distribution:"
   ]
  },
  {
   "cell_type": "code",
   "execution_count": 18,
   "metadata": {},
   "outputs": [
    {
     "data": {
      "image/png": "[encoded data removed]",
      "text/plain": [
       "<Figure size 1440x576 with 1 Axes>"
      ]
     },
     "metadata": {
      "needs_background": "light"
     },
     "output_type": "display_data"
    }
   ],
   "source": [
    "fig = plt.figure(figsize=(20,8),)\n",
    "axis = sns.kdeplot(train.loc[(train['default_status'] == 1),'employee_count'] , color='g',shade=True, label='Defaulted')\n",
    "axis = sns.kdeplot(train.loc[(train['default_status'] == 0),'employee_count'] , color='b',shade=True,label='Did Not default')\n",
    "plt.title('Employee Count Distribution - Default vs No Default', fontsize = 20)\n",
    "plt.xlabel(\"employee_count\", fontsize = 12)\n",
    "plt.ylabel('Frequency', fontsize = 12);"
   ]
  },
  {
   "cell_type": "markdown",
   "metadata": {},
   "source": [
    "Companies with very few employees do appear to have more chance of defaulting, we will be analyzing this during feature transformation and deciding on dropping the feature or not.\n",
    "\n",
    "**business new**: Text type data, will be converted to numerical and analyse its correlation during feature engineering"
   ]
  },
  {
   "cell_type": "markdown",
   "metadata": {},
   "source": [
    "**business_type**: Only 2 different types of data, will leave as is"
   ]
  },
  {
   "cell_type": "code",
   "execution_count": 19,
   "metadata": {},
   "outputs": [
    {
     "data": {
      "text/html": [
       "<div>\n",
       "<style scoped>\n",
       "    .dataframe tbody tr th:only-of-type {\n",
       "        vertical-align: middle;\n",
       "    }\n",
       "\n",
       "    .dataframe tbody tr th {\n",
       "        vertical-align: top;\n",
       "    }\n",
       "\n",
       "    .dataframe thead th {\n",
       "        text-align: right;\n",
       "    }\n",
       "</style>\n",
       "<table border=\"1\" class=\"dataframe\">\n",
       "  <thead>\n",
       "    <tr style=\"text-align: right;\">\n",
       "      <th></th>\n",
       "      <th>default_status</th>\n",
       "    </tr>\n",
       "    <tr>\n",
       "      <th>business_type</th>\n",
       "      <th></th>\n",
       "    </tr>\n",
       "  </thead>\n",
       "  <tbody>\n",
       "    <tr>\n",
       "      <th>0</th>\n",
       "      <td>0.325253</td>\n",
       "    </tr>\n",
       "    <tr>\n",
       "      <th>1</th>\n",
       "      <td>0.265152</td>\n",
       "    </tr>\n",
       "  </tbody>\n",
       "</table>\n",
       "</div>"
      ],
      "text/plain": [
       "               default_status\n",
       "business_type                \n",
       "0                    0.325253\n",
       "1                    0.265152"
      ]
     },
     "execution_count": 19,
     "metadata": {},
     "output_type": "execute_result"
    },
    {
     "data": {
      "image/png": "[encoded data removed]",
      "text/plain": [
       "<Figure size 1440x360 with 1 Axes>"
      ]
     },
     "metadata": {
      "needs_background": "light"
     },
     "output_type": "display_data"
    }
   ],
   "source": [
    "plt.figure(figsize=(20,5))\n",
    "g = sns.barplot(x=\"business_type\",y=\"default_status\",data=train)\n",
    "g = g.set_ylabel(\"Default Probability\")\n",
    "train[['business_type', 'default_status']].groupby(['business_type']).mean().sort_values(by='default_status', ascending=False)"
   ]
  },
  {
   "cell_type": "markdown",
   "metadata": {},
   "source": [
    "**Location**: All locations are rural, this feature will be deleted as it does not bring any usable insights"
   ]
  },
  {
   "cell_type": "code",
   "execution_count": 20,
   "metadata": {},
   "outputs": [
    {
     "data": {
      "text/plain": [
       "array(['Rural'], dtype=object)"
      ]
     },
     "execution_count": 20,
     "metadata": {},
     "output_type": "execute_result"
    }
   ],
   "source": [
    "train.location.unique()"
   ]
  },
  {
   "cell_type": "markdown",
   "metadata": {},
   "source": [
    "**other loans, loan amount** and **insured amount** require processing before analysis of feature, to be done during feature engineering and potentially removing some of the features:"
   ]
  },
  {
   "cell_type": "code",
   "execution_count": 21,
   "metadata": {},
   "outputs": [
    {
     "data": {
      "text/html": [
       "<div>\n",
       "<style scoped>\n",
       "    .dataframe tbody tr th:only-of-type {\n",
       "        vertical-align: middle;\n",
       "    }\n",
       "\n",
       "    .dataframe tbody tr th {\n",
       "        vertical-align: top;\n",
       "    }\n",
       "\n",
       "    .dataframe thead th {\n",
       "        text-align: right;\n",
       "    }\n",
       "</style>\n",
       "<table border=\"1\" class=\"dataframe\">\n",
       "  <thead>\n",
       "    <tr style=\"text-align: right;\">\n",
       "      <th></th>\n",
       "      <th>id</th>\n",
       "      <th>industry</th>\n",
       "      <th>state</th>\n",
       "      <th>request_date</th>\n",
       "      <th>term</th>\n",
       "      <th>employee_count</th>\n",
       "      <th>business_new</th>\n",
       "      <th>business_type</th>\n",
       "      <th>location</th>\n",
       "      <th>other_loans</th>\n",
       "      <th>loan_amount</th>\n",
       "      <th>insured_amount</th>\n",
       "      <th>default_status</th>\n",
       "    </tr>\n",
       "  </thead>\n",
       "  <tbody>\n",
       "    <tr>\n",
       "      <th>0</th>\n",
       "      <td>4050975007</td>\n",
       "      <td>Others</td>\n",
       "      <td>VA</td>\n",
       "      <td>2010-04-27</td>\n",
       "      <td>34</td>\n",
       "      <td>4</td>\n",
       "      <td>New</td>\n",
       "      <td>0</td>\n",
       "      <td>Rural</td>\n",
       "      <td>N</td>\n",
       "      <td>$35,000.00</td>\n",
       "      <td>$35,000.00</td>\n",
       "      <td>1</td>\n",
       "    </tr>\n",
       "    <tr>\n",
       "      <th>1</th>\n",
       "      <td>3735095001</td>\n",
       "      <td>Manufacturing</td>\n",
       "      <td>CA</td>\n",
       "      <td>2009-11-05</td>\n",
       "      <td>107</td>\n",
       "      <td>1</td>\n",
       "      <td>New</td>\n",
       "      <td>0</td>\n",
       "      <td>Rural</td>\n",
       "      <td>N</td>\n",
       "      <td>$15,000.00</td>\n",
       "      <td>$13,500.00</td>\n",
       "      <td>1</td>\n",
       "    </tr>\n",
       "    <tr>\n",
       "      <th>2</th>\n",
       "      <td>3936555004</td>\n",
       "      <td>Trading</td>\n",
       "      <td>CA</td>\n",
       "      <td>2010-02-26</td>\n",
       "      <td>84</td>\n",
       "      <td>1</td>\n",
       "      <td>New</td>\n",
       "      <td>0</td>\n",
       "      <td>Rural</td>\n",
       "      <td>Y</td>\n",
       "      <td>$265,000.00</td>\n",
       "      <td>$100,000.00</td>\n",
       "      <td>0</td>\n",
       "    </tr>\n",
       "    <tr>\n",
       "      <th>3</th>\n",
       "      <td>4130405000</td>\n",
       "      <td>Engineering</td>\n",
       "      <td>MI</td>\n",
       "      <td>2010-06-10</td>\n",
       "      <td>240</td>\n",
       "      <td>21</td>\n",
       "      <td>New</td>\n",
       "      <td>0</td>\n",
       "      <td>Rural</td>\n",
       "      <td>N</td>\n",
       "      <td>$255,000.00</td>\n",
       "      <td>$255,000.00</td>\n",
       "      <td>0</td>\n",
       "    </tr>\n",
       "    <tr>\n",
       "      <th>4</th>\n",
       "      <td>4263615008</td>\n",
       "      <td>Education</td>\n",
       "      <td>NH</td>\n",
       "      <td>2010-09-23</td>\n",
       "      <td>36</td>\n",
       "      <td>1</td>\n",
       "      <td>Existing</td>\n",
       "      <td>0</td>\n",
       "      <td>Rural</td>\n",
       "      <td>N</td>\n",
       "      <td>$13,300.00</td>\n",
       "      <td>$6,650.00</td>\n",
       "      <td>0</td>\n",
       "    </tr>\n",
       "  </tbody>\n",
       "</table>\n",
       "</div>"
      ],
      "text/plain": [
       "           id       industry state request_date  term  employee_count  \\\n",
       "0  4050975007         Others    VA   2010-04-27    34               4   \n",
       "1  3735095001  Manufacturing    CA   2009-11-05   107               1   \n",
       "2  3936555004        Trading    CA   2010-02-26    84               1   \n",
       "3  4130405000    Engineering    MI   2010-06-10   240              21   \n",
       "4  4263615008      Education    NH   2010-09-23    36               1   \n",
       "\n",
       "  business_new  business_type location other_loans  loan_amount  \\\n",
       "0          New              0    Rural           N   $35,000.00   \n",
       "1          New              0    Rural           N   $15,000.00   \n",
       "2          New              0    Rural           Y  $265,000.00   \n",
       "3          New              0    Rural           N  $255,000.00   \n",
       "4     Existing              0    Rural           N   $13,300.00   \n",
       "\n",
       "  insured_amount  default_status  \n",
       "0     $35,000.00               1  \n",
       "1     $13,500.00               1  \n",
       "2    $100,000.00               0  \n",
       "3    $255,000.00               0  \n",
       "4      $6,650.00               0  "
      ]
     },
     "execution_count": 21,
     "metadata": {},
     "output_type": "execute_result"
    }
   ],
   "source": [
    "train.head()"
   ]
  },
  {
   "cell_type": "markdown",
   "metadata": {},
   "source": [
    "# Feature Engineering:"
   ]
  },
  {
   "cell_type": "markdown",
   "metadata": {},
   "source": [
    "This is what will be done with the  respective features:\n",
    "\n",
    "**id**: To be left as is\n",
    "\n",
    "**Industry**: Get dummy values\n",
    "\n",
    "**state**: To be removed\n",
    "\n",
    "**request_date**: To be removed\n",
    "\n",
    "**Term**: Create bins for feature, eliminate original\n",
    "\n",
    "**employee count**: Analyse if bins have better performance, otherwise leave as is\n",
    "\n",
    "**business new**: Transform to numerical\n",
    "\n",
    "**business type**: Leave as is\n",
    "\n",
    "**location**: Drop feature\n",
    "\n",
    "**other loans**: Convert to numerical, check if relevant and delete if not\n",
    "\n",
    "**loan amount**: Convert to numerical\n",
    "\n",
    "**insured amount**: Conver to numerical, get uninsured amount from this and delete original feature\n"
   ]
  },
  {
   "cell_type": "code",
   "execution_count": 22,
   "metadata": {},
   "outputs": [],
   "source": [
    "def common_cleanup(data):\n",
    "    data['business_new'] = data['business_new'].replace('New', 1)\n",
    "    data['business_new'] = data['business_new'].replace('Existing', 0)\n",
    "    data['other_loans'] = data['other_loans'].replace('Y', 1)\n",
    "    data['other_loans'] = data['other_loans'].replace('N', 0)\n",
    "    data['loan_amount'] = data['loan_amount'].replace('[\\$,]', '', regex=True).astype(float)\n",
    "    data['insured_amount'] = data['insured_amount'].replace('[\\$,]', '', regex=True).astype(float)\n",
    "    data['uninsured_amount'] = data['loan_amount'] - data['insured_amount']\n",
    "    data.drop(columns=['state','request_date','location'], inplace=True)"
   ]
  },
  {
   "cell_type": "code",
   "execution_count": 23,
   "metadata": {},
   "outputs": [],
   "source": [
    "common_cleanup(train)\n",
    "common_cleanup(test)"
   ]
  },
  {
   "cell_type": "code",
   "execution_count": null,
   "metadata": {},
   "outputs": [],
   "source": []
  },
  {
   "cell_type": "code",
   "execution_count": 24,
   "metadata": {},
   "outputs": [],
   "source": [
    "train = pd.get_dummies(train, columns = [\"industry\"])\n",
    "test = pd.get_dummies(test, columns = [\"industry\"])"
   ]
  },
  {
   "cell_type": "code",
   "execution_count": null,
   "metadata": {},
   "outputs": [],
   "source": []
  },
  {
   "cell_type": "code",
   "execution_count": 25,
   "metadata": {},
   "outputs": [],
   "source": [
    "bins = [ 0, 60, 200, 500] \n",
    "term_index = (0,1,2)\n",
    "\n",
    "train['term_bin'] = pd.cut(train.term, bins, labels=term_index).astype(int)\n",
    "test['term_bin'] = pd.cut(test.term, bins, labels=term_index).astype(int)\n",
    "train = train.drop(columns=['term'])\n",
    "test = test.drop(columns=['term'])\n"
   ]
  },
  {
   "cell_type": "code",
   "execution_count": 26,
   "metadata": {},
   "outputs": [
    {
     "data": {
      "text/html": [
       "<div>\n",
       "<style scoped>\n",
       "    .dataframe tbody tr th:only-of-type {\n",
       "        vertical-align: middle;\n",
       "    }\n",
       "\n",
       "    .dataframe tbody tr th {\n",
       "        vertical-align: top;\n",
       "    }\n",
       "\n",
       "    .dataframe thead th {\n",
       "        text-align: right;\n",
       "    }\n",
       "</style>\n",
       "<table border=\"1\" class=\"dataframe\">\n",
       "  <thead>\n",
       "    <tr style=\"text-align: right;\">\n",
       "      <th></th>\n",
       "      <th>term_bin</th>\n",
       "      <th>default_status</th>\n",
       "    </tr>\n",
       "  </thead>\n",
       "  <tbody>\n",
       "    <tr>\n",
       "      <th>0</th>\n",
       "      <td>0</td>\n",
       "      <td>0.458889</td>\n",
       "    </tr>\n",
       "    <tr>\n",
       "      <th>1</th>\n",
       "      <td>1</td>\n",
       "      <td>0.268908</td>\n",
       "    </tr>\n",
       "    <tr>\n",
       "      <th>2</th>\n",
       "      <td>2</td>\n",
       "      <td>0.041667</td>\n",
       "    </tr>\n",
       "  </tbody>\n",
       "</table>\n",
       "</div>"
      ],
      "text/plain": [
       "   term_bin  default_status\n",
       "0         0        0.458889\n",
       "1         1        0.268908\n",
       "2         2        0.041667"
      ]
     },
     "execution_count": 26,
     "metadata": {},
     "output_type": "execute_result"
    }
   ],
   "source": [
    "train[['term_bin', 'default_status']].groupby(['term_bin'],as_index=False).mean()\n"
   ]
  },
  {
   "cell_type": "code",
   "execution_count": null,
   "metadata": {},
   "outputs": [],
   "source": []
  },
  {
   "cell_type": "code",
   "execution_count": 27,
   "metadata": {},
   "outputs": [],
   "source": [
    "bins = [-1, 20, 200, 1000] \n",
    "term_index = (0,1,2)\n",
    "\n",
    "train['employee_bin'] = pd.cut(train.employee_count, bins, labels=term_index)\n",
    "test['employee_bin'] = pd.cut(test.employee_count, bins, labels=term_index)\n",
    "train = train.drop(columns=['employee_count'])\n",
    "test = test.drop(columns=['employee_count'])"
   ]
  },
  {
   "cell_type": "code",
   "execution_count": 28,
   "metadata": {},
   "outputs": [
    {
     "data": {
      "text/html": [
       "<div>\n",
       "<style scoped>\n",
       "    .dataframe tbody tr th:only-of-type {\n",
       "        vertical-align: middle;\n",
       "    }\n",
       "\n",
       "    .dataframe tbody tr th {\n",
       "        vertical-align: top;\n",
       "    }\n",
       "\n",
       "    .dataframe thead th {\n",
       "        text-align: right;\n",
       "    }\n",
       "</style>\n",
       "<table border=\"1\" class=\"dataframe\">\n",
       "  <thead>\n",
       "    <tr style=\"text-align: right;\">\n",
       "      <th></th>\n",
       "      <th>employee_bin</th>\n",
       "      <th>default_status</th>\n",
       "    </tr>\n",
       "  </thead>\n",
       "  <tbody>\n",
       "    <tr>\n",
       "      <th>0</th>\n",
       "      <td>0</td>\n",
       "      <td>0.343822</td>\n",
       "    </tr>\n",
       "    <tr>\n",
       "      <th>1</th>\n",
       "      <td>1</td>\n",
       "      <td>0.127119</td>\n",
       "    </tr>\n",
       "    <tr>\n",
       "      <th>2</th>\n",
       "      <td>2</td>\n",
       "      <td>0.000000</td>\n",
       "    </tr>\n",
       "  </tbody>\n",
       "</table>\n",
       "</div>"
      ],
      "text/plain": [
       "  employee_bin  default_status\n",
       "0            0        0.343822\n",
       "1            1        0.127119\n",
       "2            2        0.000000"
      ]
     },
     "execution_count": 28,
     "metadata": {},
     "output_type": "execute_result"
    }
   ],
   "source": [
    "train[['employee_bin', 'default_status']].groupby(['employee_bin'],as_index=False).mean()"
   ]
  },
  {
   "cell_type": "code",
   "execution_count": null,
   "metadata": {},
   "outputs": [],
   "source": []
  },
  {
   "cell_type": "code",
   "execution_count": 29,
   "metadata": {},
   "outputs": [
    {
     "data": {
      "text/html": [
       "<div>\n",
       "<style scoped>\n",
       "    .dataframe tbody tr th:only-of-type {\n",
       "        vertical-align: middle;\n",
       "    }\n",
       "\n",
       "    .dataframe tbody tr th {\n",
       "        vertical-align: top;\n",
       "    }\n",
       "\n",
       "    .dataframe thead th {\n",
       "        text-align: right;\n",
       "    }\n",
       "</style>\n",
       "<table border=\"1\" class=\"dataframe\">\n",
       "  <thead>\n",
       "    <tr style=\"text-align: right;\">\n",
       "      <th></th>\n",
       "      <th>id</th>\n",
       "      <th>business_new</th>\n",
       "      <th>business_type</th>\n",
       "      <th>other_loans</th>\n",
       "      <th>loan_amount</th>\n",
       "      <th>insured_amount</th>\n",
       "      <th>default_status</th>\n",
       "      <th>uninsured_amount</th>\n",
       "      <th>industry_Administration</th>\n",
       "      <th>industry_Agriculture</th>\n",
       "      <th>...</th>\n",
       "      <th>industry_Finance</th>\n",
       "      <th>industry_Healthcare</th>\n",
       "      <th>industry_Hotel</th>\n",
       "      <th>industry_Manufacturing</th>\n",
       "      <th>industry_Others</th>\n",
       "      <th>industry_Real Estate</th>\n",
       "      <th>industry_Trading</th>\n",
       "      <th>industry_Transportation</th>\n",
       "      <th>term_bin</th>\n",
       "      <th>employee_bin</th>\n",
       "    </tr>\n",
       "  </thead>\n",
       "  <tbody>\n",
       "    <tr>\n",
       "      <th>0</th>\n",
       "      <td>4050975007</td>\n",
       "      <td>1</td>\n",
       "      <td>0</td>\n",
       "      <td>0</td>\n",
       "      <td>35000.0</td>\n",
       "      <td>35000.0</td>\n",
       "      <td>1</td>\n",
       "      <td>0.0</td>\n",
       "      <td>0</td>\n",
       "      <td>0</td>\n",
       "      <td>...</td>\n",
       "      <td>0</td>\n",
       "      <td>0</td>\n",
       "      <td>0</td>\n",
       "      <td>0</td>\n",
       "      <td>1</td>\n",
       "      <td>0</td>\n",
       "      <td>0</td>\n",
       "      <td>0</td>\n",
       "      <td>0</td>\n",
       "      <td>0</td>\n",
       "    </tr>\n",
       "    <tr>\n",
       "      <th>1</th>\n",
       "      <td>3735095001</td>\n",
       "      <td>1</td>\n",
       "      <td>0</td>\n",
       "      <td>0</td>\n",
       "      <td>15000.0</td>\n",
       "      <td>13500.0</td>\n",
       "      <td>1</td>\n",
       "      <td>1500.0</td>\n",
       "      <td>0</td>\n",
       "      <td>0</td>\n",
       "      <td>...</td>\n",
       "      <td>0</td>\n",
       "      <td>0</td>\n",
       "      <td>0</td>\n",
       "      <td>1</td>\n",
       "      <td>0</td>\n",
       "      <td>0</td>\n",
       "      <td>0</td>\n",
       "      <td>0</td>\n",
       "      <td>1</td>\n",
       "      <td>0</td>\n",
       "    </tr>\n",
       "    <tr>\n",
       "      <th>2</th>\n",
       "      <td>3936555004</td>\n",
       "      <td>1</td>\n",
       "      <td>0</td>\n",
       "      <td>1</td>\n",
       "      <td>265000.0</td>\n",
       "      <td>100000.0</td>\n",
       "      <td>0</td>\n",
       "      <td>165000.0</td>\n",
       "      <td>0</td>\n",
       "      <td>0</td>\n",
       "      <td>...</td>\n",
       "      <td>0</td>\n",
       "      <td>0</td>\n",
       "      <td>0</td>\n",
       "      <td>0</td>\n",
       "      <td>0</td>\n",
       "      <td>0</td>\n",
       "      <td>1</td>\n",
       "      <td>0</td>\n",
       "      <td>1</td>\n",
       "      <td>0</td>\n",
       "    </tr>\n",
       "    <tr>\n",
       "      <th>3</th>\n",
       "      <td>4130405000</td>\n",
       "      <td>1</td>\n",
       "      <td>0</td>\n",
       "      <td>0</td>\n",
       "      <td>255000.0</td>\n",
       "      <td>255000.0</td>\n",
       "      <td>0</td>\n",
       "      <td>0.0</td>\n",
       "      <td>0</td>\n",
       "      <td>0</td>\n",
       "      <td>...</td>\n",
       "      <td>0</td>\n",
       "      <td>0</td>\n",
       "      <td>0</td>\n",
       "      <td>0</td>\n",
       "      <td>0</td>\n",
       "      <td>0</td>\n",
       "      <td>0</td>\n",
       "      <td>0</td>\n",
       "      <td>2</td>\n",
       "      <td>1</td>\n",
       "    </tr>\n",
       "    <tr>\n",
       "      <th>4</th>\n",
       "      <td>4263615008</td>\n",
       "      <td>0</td>\n",
       "      <td>0</td>\n",
       "      <td>0</td>\n",
       "      <td>13300.0</td>\n",
       "      <td>6650.0</td>\n",
       "      <td>0</td>\n",
       "      <td>6650.0</td>\n",
       "      <td>0</td>\n",
       "      <td>0</td>\n",
       "      <td>...</td>\n",
       "      <td>0</td>\n",
       "      <td>0</td>\n",
       "      <td>0</td>\n",
       "      <td>0</td>\n",
       "      <td>0</td>\n",
       "      <td>0</td>\n",
       "      <td>0</td>\n",
       "      <td>0</td>\n",
       "      <td>0</td>\n",
       "      <td>0</td>\n",
       "    </tr>\n",
       "  </tbody>\n",
       "</table>\n",
       "<p>5 rows × 26 columns</p>\n",
       "</div>"
      ],
      "text/plain": [
       "           id  business_new  business_type  other_loans  loan_amount  \\\n",
       "0  4050975007             1              0            0      35000.0   \n",
       "1  3735095001             1              0            0      15000.0   \n",
       "2  3936555004             1              0            1     265000.0   \n",
       "3  4130405000             1              0            0     255000.0   \n",
       "4  4263615008             0              0            0      13300.0   \n",
       "\n",
       "   insured_amount  default_status  uninsured_amount  industry_Administration  \\\n",
       "0         35000.0               1               0.0                        0   \n",
       "1         13500.0               1            1500.0                        0   \n",
       "2        100000.0               0          165000.0                        0   \n",
       "3        255000.0               0               0.0                        0   \n",
       "4          6650.0               0            6650.0                        0   \n",
       "\n",
       "   industry_Agriculture  ...  industry_Finance  industry_Healthcare  \\\n",
       "0                     0  ...                 0                    0   \n",
       "1                     0  ...                 0                    0   \n",
       "2                     0  ...                 0                    0   \n",
       "3                     0  ...                 0                    0   \n",
       "4                     0  ...                 0                    0   \n",
       "\n",
       "   industry_Hotel  industry_Manufacturing  industry_Others  \\\n",
       "0               0                       0                1   \n",
       "1               0                       1                0   \n",
       "2               0                       0                0   \n",
       "3               0                       0                0   \n",
       "4               0                       0                0   \n",
       "\n",
       "   industry_Real Estate  industry_Trading  industry_Transportation  term_bin  \\\n",
       "0                     0                 0                        0         0   \n",
       "1                     0                 0                        0         1   \n",
       "2                     0                 1                        0         1   \n",
       "3                     0                 0                        0         2   \n",
       "4                     0                 0                        0         0   \n",
       "\n",
       "   employee_bin  \n",
       "0             0  \n",
       "1             0  \n",
       "2             0  \n",
       "3             1  \n",
       "4             0  \n",
       "\n",
       "[5 rows x 26 columns]"
      ]
     },
     "execution_count": 29,
     "metadata": {},
     "output_type": "execute_result"
    }
   ],
   "source": [
    "train.head()"
   ]
  },
  {
   "cell_type": "markdown",
   "metadata": {},
   "source": [
    "# Creating a Model:\n",
    "First we will separate the target data from the training set and removing the id altogether. We will keep the ID for the test set as it will be used for the final results."
   ]
  },
  {
   "cell_type": "code",
   "execution_count": 30,
   "metadata": {},
   "outputs": [],
   "source": [
    "test_ids = test.id\n",
    "test_data = test.drop(columns=['id'])\n",
    "train_targets = train.default_status\n",
    "train_data = train.drop(columns=['id', 'default_status'])\n",
    "\n",
    "\n",
    "#x_train, x_test, y_train, y_test = train_test_split(train_data, train_targets, test_size=.2, random_state=4)"
   ]
  },
  {
   "cell_type": "markdown",
   "metadata": {},
   "source": [
    "For the uneven data present, we will normalize all features:"
   ]
  },
  {
   "cell_type": "code",
   "execution_count": 31,
   "metadata": {},
   "outputs": [],
   "source": [
    "scaler = StandardScaler()\n",
    "train_data_norm = scaler.fit_transform(train_data)\n",
    "test_data_norm = scaler.transform(test_data)\n"
   ]
  },
  {
   "cell_type": "markdown",
   "metadata": {},
   "source": [
    "For our training data, we divide in internal train and test in order to verify our performance"
   ]
  },
  {
   "cell_type": "code",
   "execution_count": 32,
   "metadata": {},
   "outputs": [],
   "source": [
    "x_train, x_test, y_train, y_test = train_test_split(train_data_norm, train_targets, test_size=.2, random_state=4)"
   ]
  },
  {
   "cell_type": "code",
   "execution_count": null,
   "metadata": {},
   "outputs": [],
   "source": []
  },
  {
   "cell_type": "markdown",
   "metadata": {},
   "source": [
    "# Using Logistic Regression Model"
   ]
  },
  {
   "cell_type": "code",
   "execution_count": 44,
   "metadata": {},
   "outputs": [
    {
     "name": "stdout",
     "output_type": "stream",
     "text": [
      "The score for logistic regression is\n",
      "Training:  71.88%\n",
      "Validate:  70.89%\n",
      "Log-loss: 0.5579\n"
     ]
    }
   ],
   "source": [
    "logistic = LogisticRegression(penalty='l2', C=10, max_iter=100)\n",
    "logistic.fit(x_train, y_train)\n",
    "print(\"The score for logistic regression is\")\n",
    "print(\"Training: {:6.2f}%\".format(100*logistic.score(x_train, y_train)))\n",
    "print(\"Test: {:6.2f}%\".format(100*logistic.score(x_test, y_test)))\n",
    "print(\"Loss: {:6.4f}\".format(met.log_loss(y_test, logistic.predict_proba(x_test))))"
   ]
  },
  {
   "cell_type": "code",
   "execution_count": 45,
   "metadata": {},
   "outputs": [
    {
     "name": "stdout",
     "output_type": "stream",
     "text": [
      "Accuracy: 70.8939708940%\n"
     ]
    }
   ],
   "source": [
    "logistic_pred = logistic.predict(x_test)\n",
    "\n",
    "accuracy = met.accuracy_score(y_test, logistic_pred)\n",
    "print(\"Accuracy: %.10f%%\" % (accuracy * 100.0))"
   ]
  },
  {
   "cell_type": "code",
   "execution_count": null,
   "metadata": {},
   "outputs": [],
   "source": []
  },
  {
   "cell_type": "code",
   "execution_count": null,
   "metadata": {},
   "outputs": [],
   "source": []
  },
  {
   "cell_type": "code",
   "execution_count": null,
   "metadata": {},
   "outputs": [],
   "source": []
  },
  {
   "cell_type": "code",
   "execution_count": null,
   "metadata": {},
   "outputs": [],
   "source": []
  },
  {
   "cell_type": "markdown",
   "metadata": {},
   "source": [
    "# Using Random Forest Model"
   ]
  },
  {
   "cell_type": "code",
   "execution_count": 37,
   "metadata": {},
   "outputs": [
    {
     "name": "stdout",
     "output_type": "stream",
     "text": [
      "The score for Random Forest is\n",
      "Training:  87.03%\n",
      "Validate:  80.25%\n",
      "Log-loss: 0.4479\n"
     ]
    }
   ],
   "source": [
    "forest = RandomForestClassifier(n_estimators=100, max_depth=7, max_features=12)\n",
    "forest.fit(x_train, y_train)\n",
    "forest.score(x_train, y_train)\n",
    "\n",
    "print(\"The score for Random Forest is\")\n",
    "print(\"Training: {:6.2f}%\".format(100*forest.score(x_train, y_train)))\n",
    "print(\"Validate: {:6.2f}%\".format(100*forest.score(x_test, y_test)))\n",
    "print(\"Log-loss: {:6.4f}\".format(met.log_loss(y_test, forest.predict_proba(x_test))))"
   ]
  },
  {
   "cell_type": "code",
   "execution_count": 38,
   "metadata": {},
   "outputs": [],
   "source": [
    "forest_score = forest.fit(x_train, y_train).score(x_test, y_test)"
   ]
  },
  {
   "cell_type": "code",
   "execution_count": 40,
   "metadata": {},
   "outputs": [
    {
     "name": "stdout",
     "output_type": "stream",
     "text": [
      "Accuracy: 79.6257796258%\n"
     ]
    }
   ],
   "source": [
    "forest_pred = forest.predict(x_test)\n",
    "\n",
    "accuracy = met.accuracy_score(y_test, forest_pred)\n",
    "print(\"Accuracy: %.10f%%\" % (accuracy * 100.0))"
   ]
  },
  {
   "cell_type": "code",
   "execution_count": null,
   "metadata": {},
   "outputs": [],
   "source": []
  }
 ],
 "metadata": {
  "kernelspec": {
   "display_name": "Python 3",
   "language": "python",
   "name": "python3"
  },
  "language_info": {
   "codemirror_mode": {
    "name": "ipython",
    "version": 3
   },
   "file_extension": ".py",
   "mimetype": "text/x-python",
   "name": "python",
   "nbconvert_exporter": "python",
   "pygments_lexer": "ipython3",
   "version": "3.7.6"
  }
 },
 "nbformat": 4,
 "nbformat_minor": 4
}
